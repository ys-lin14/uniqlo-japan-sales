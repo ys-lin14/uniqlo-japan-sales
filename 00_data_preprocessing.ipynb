{
 "cells": [
  {
   "cell_type": "code",
   "execution_count": 4,
   "id": "23ef13fc",
   "metadata": {},
   "outputs": [],
   "source": [
    "import pandas as pd\n",
    "import util1\n",
    "import util2"
   ]
  },
  {
   "cell_type": "code",
   "execution_count": null,
   "id": "3d0c4d27",
   "metadata": {},
   "outputs": [],
   "source": [
    "util1.clean_and_save_sales_data()\n",
    "util1.unpivot_combine_and_save_sales_data()"
   ]
  },
  {
   "cell_type": "code",
   "execution_count": 3,
   "id": "e18e85a5",
   "metadata": {},
   "outputs": [],
   "source": [
    "util2.clean_and_save_comments_and_opening_closure_data()\n",
    "util2.combine_and_save_sales_comments()\n",
    "util2.combine_and_save_store_openings_and_closures()"
   ]
  },
  {
   "cell_type": "code",
   "execution_count": null,
   "id": "b1cde773",
   "metadata": {},
   "outputs": [],
   "source": [
    "sales_data = pd.read_csv('./data/preprocessed/sales_data.csv')\n",
    "sales_data.head(5)"
   ]
  },
  {
   "cell_type": "code",
   "execution_count": 6,
   "id": "163a997f",
   "metadata": {},
   "outputs": [
    {
     "data": {
      "text/html": [
       "<div>\n",
       "<style scoped>\n",
       "    .dataframe tbody tr th:only-of-type {\n",
       "        vertical-align: middle;\n",
       "    }\n",
       "\n",
       "    .dataframe tbody tr th {\n",
       "        vertical-align: top;\n",
       "    }\n",
       "\n",
       "    .dataframe thead th {\n",
       "        text-align: right;\n",
       "    }\n",
       "</style>\n",
       "<table border=\"1\" class=\"dataframe\">\n",
       "  <thead>\n",
       "    <tr style=\"text-align: right;\">\n",
       "      <th></th>\n",
       "      <th>Period</th>\n",
       "      <th>Term</th>\n",
       "      <th>Information Type</th>\n",
       "      <th>Information</th>\n",
       "    </tr>\n",
       "  </thead>\n",
       "  <tbody>\n",
       "    <tr>\n",
       "      <th>0</th>\n",
       "      <td>August 2017</td>\n",
       "      <td>September 2016 to August 2017</td>\n",
       "      <td>Sales Comments</td>\n",
       "      <td>August 2017 same-store sales decreased by 3.4%...</td>\n",
       "    </tr>\n",
       "    <tr>\n",
       "      <th>1</th>\n",
       "      <td>July 2017</td>\n",
       "      <td>September 2016 to August 2017</td>\n",
       "      <td>Sales Comments</td>\n",
       "      <td>July 2017 same-store sales increased by 3.7% y...</td>\n",
       "    </tr>\n",
       "    <tr>\n",
       "      <th>2</th>\n",
       "      <td>June 2017</td>\n",
       "      <td>September 2016 to August 2017</td>\n",
       "      <td>Sales Comments</td>\n",
       "      <td>June 2017 same-store sales increased by 4.1% y...</td>\n",
       "    </tr>\n",
       "    <tr>\n",
       "      <th>3</th>\n",
       "      <td>May 2017</td>\n",
       "      <td>September 2016 to August 2017</td>\n",
       "      <td>Sales Comments</td>\n",
       "      <td>May 2017 same-store sales increased by 2.4% ye...</td>\n",
       "    </tr>\n",
       "    <tr>\n",
       "      <th>4</th>\n",
       "      <td>April 2017</td>\n",
       "      <td>September 2016 to August 2017</td>\n",
       "      <td>Sales Comments</td>\n",
       "      <td>April 2017 same-store sales increased by 6.2% ...</td>\n",
       "    </tr>\n",
       "  </tbody>\n",
       "</table>\n",
       "</div>"
      ],
      "text/plain": [
       "        Period                           Term Information Type  \\\n",
       "0  August 2017  September 2016 to August 2017   Sales Comments   \n",
       "1    July 2017  September 2016 to August 2017   Sales Comments   \n",
       "2    June 2017  September 2016 to August 2017   Sales Comments   \n",
       "3     May 2017  September 2016 to August 2017   Sales Comments   \n",
       "4   April 2017  September 2016 to August 2017   Sales Comments   \n",
       "\n",
       "                                         Information  \n",
       "0  August 2017 same-store sales decreased by 3.4%...  \n",
       "1  July 2017 same-store sales increased by 3.7% y...  \n",
       "2  June 2017 same-store sales increased by 4.1% y...  \n",
       "3  May 2017 same-store sales increased by 2.4% ye...  \n",
       "4  April 2017 same-store sales increased by 6.2% ...  "
      ]
     },
     "execution_count": 6,
     "metadata": {},
     "output_type": "execute_result"
    }
   ],
   "source": [
    "monthly_sales_comments = pd.read_excel('./data/preprocessed/monthly_sales_comments.xlsx')\n",
    "monthly_sales_comments.head(5)"
   ]
  },
  {
   "cell_type": "code",
   "execution_count": 8,
   "id": "7366c6dd",
   "metadata": {},
   "outputs": [
    {
     "data": {
      "text/html": [
       "<div>\n",
       "<style scoped>\n",
       "    .dataframe tbody tr th:only-of-type {\n",
       "        vertical-align: middle;\n",
       "    }\n",
       "\n",
       "    .dataframe tbody tr th {\n",
       "        vertical-align: top;\n",
       "    }\n",
       "\n",
       "    .dataframe thead th {\n",
       "        text-align: right;\n",
       "    }\n",
       "</style>\n",
       "<table border=\"1\" class=\"dataframe\">\n",
       "  <thead>\n",
       "    <tr style=\"text-align: right;\">\n",
       "      <th></th>\n",
       "      <th>Period</th>\n",
       "      <th>Openings</th>\n",
       "      <th>Closures</th>\n",
       "      <th>Term</th>\n",
       "    </tr>\n",
       "  </thead>\n",
       "  <tbody>\n",
       "    <tr>\n",
       "      <th>0</th>\n",
       "      <td>August 2017</td>\n",
       "      <td>0.0</td>\n",
       "      <td>2.0</td>\n",
       "      <td>September 2016 to August 2017</td>\n",
       "    </tr>\n",
       "    <tr>\n",
       "      <th>1</th>\n",
       "      <td>July 2017</td>\n",
       "      <td>0.0</td>\n",
       "      <td>1.0</td>\n",
       "      <td>September 2016 to August 2017</td>\n",
       "    </tr>\n",
       "    <tr>\n",
       "      <th>2</th>\n",
       "      <td>June 2017</td>\n",
       "      <td>0.0</td>\n",
       "      <td>0.0</td>\n",
       "      <td>September 2016 to August 2017</td>\n",
       "    </tr>\n",
       "    <tr>\n",
       "      <th>3</th>\n",
       "      <td>May 2017</td>\n",
       "      <td>0.0</td>\n",
       "      <td>1.0</td>\n",
       "      <td>September 2016 to August 2017</td>\n",
       "    </tr>\n",
       "    <tr>\n",
       "      <th>4</th>\n",
       "      <td>April 2017</td>\n",
       "      <td>6.0</td>\n",
       "      <td>2.0</td>\n",
       "      <td>September 2016 to August 2017</td>\n",
       "    </tr>\n",
       "  </tbody>\n",
       "</table>\n",
       "</div>"
      ],
      "text/plain": [
       "        Period  Openings  Closures                           Term\n",
       "0  August 2017       0.0       2.0  September 2016 to August 2017\n",
       "1    July 2017       0.0       1.0  September 2016 to August 2017\n",
       "2    June 2017       0.0       0.0  September 2016 to August 2017\n",
       "3     May 2017       0.0       1.0  September 2016 to August 2017\n",
       "4   April 2017       6.0       2.0  September 2016 to August 2017"
      ]
     },
     "execution_count": 8,
     "metadata": {},
     "output_type": "execute_result"
    }
   ],
   "source": [
    "monthly_openings_closures = pd.read_csv('./data/preprocessed/monthly_openings_and_closures.csv')\n",
    "monthly_openings_closures.head(5)"
   ]
  }
 ],
 "metadata": {
  "kernelspec": {
   "display_name": "Python 3 (ipykernel)",
   "language": "python",
   "name": "python3"
  },
  "language_info": {
   "codemirror_mode": {
    "name": "ipython",
    "version": 3
   },
   "file_extension": ".py",
   "mimetype": "text/x-python",
   "name": "python",
   "nbconvert_exporter": "python",
   "pygments_lexer": "ipython3",
   "version": "3.9.2"
  }
 },
 "nbformat": 4,
 "nbformat_minor": 5
}
