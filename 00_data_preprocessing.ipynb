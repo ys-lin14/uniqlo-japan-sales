{
 "cells": [
  {
   "cell_type": "code",
   "execution_count": 1,
   "id": "23ef13fc",
   "metadata": {},
   "outputs": [],
   "source": [
    "import camelot\n",
    "import glob\n",
    "import numpy as np\n",
    "import pandas as pd\n",
    "import re"
   ]
  },
  {
   "cell_type": "code",
   "execution_count": 2,
   "id": "2eb14bb8",
   "metadata": {},
   "outputs": [],
   "source": [
    "def simplify_store_type(store_type):\n",
    "    simplified_store_type = re.match(pattern='(.*?Stores)', string=store_type).group(0)\n",
    "    return simplified_store_type\n",
    "    \n",
    "def clean_sales_data(sales_data):\n",
    "    cleaned_sales_data = sales_data.copy()\n",
    "    \n",
    "    # remove newlines and any accompanying spaces\n",
    "    cleaned_sales_data.replace('\\s?\\\\n\\s?', ' ', regex=True, inplace=True)\n",
    "    \n",
    "    # replace \"Directly-run Stores\", \"Directly run Stores\", and \"Own Stores\" from the\n",
    "    # 2015, 2017 and other files with \"Directly-Run Stores\"\n",
    "    cleaned_sales_data.replace(\n",
    "        '((?i)([a-z\\s]+)(?<!Same\\s))Stores', \n",
    "        'Directly-Run Stores', \n",
    "        regex=True, \n",
    "        inplace=True\n",
    "    )\n",
    "    \n",
    "    cleaned_sales_data.replace(\n",
    "        'Average Purchase', \n",
    "        'Average Purchase per Customer', \n",
    "        regex=True, \n",
    "        inplace=True\n",
    "    )\n",
    "    \n",
    "    cleaned_sales_data.loc[1, 0] = 'Store Type' # Same or Directly-Run\n",
    "    cleaned_sales_data.loc[1, 1] = 'Metric'     # Net Sales, \n",
    "    \n",
    "    # forward fill Store Type column\n",
    "    cleaned_sales_data.loc[2:, 0].replace('', np.nan, inplace=True)\n",
    "    cleaned_sales_data = cleaned_sales_data.ffill()\n",
    "    \n",
    "    # extract whether Metric includes Online Sales\n",
    "    cleaned_sales_data[17] = ''\n",
    "    cleaned_sales_data.loc[1, 17] = 'Includes Online Sales'\n",
    "    cleaned_sales_data.loc[2:, 17] = cleaned_sales_data.loc[2:, 0].apply(\n",
    "        lambda s: s.__contains__('Online Sales')\n",
    "    ).astype(int)\n",
    "    \n",
    "    # flip column if excluding Online Sales (2017 file)\n",
    "    online_sales_are_flipped = cleaned_sales_data.loc[2:, 0].apply(\n",
    "        lambda s: s.__contains__('excluding Online Sales')\n",
    "    ).any()\n",
    "    if online_sales_are_flipped:\n",
    "        cleaned_sales_data[17] = cleaned_sales_data[17].replace({0: 1, 1: 0})\n",
    "        \n",
    "    # simplify the Store Type column to contain Same Stores and Directly-Run Stores\n",
    "    cleaned_sales_data.loc[2:, 0] = cleaned_sales_data.loc[2:, 0].apply(simplify_store_type)\n",
    "    \n",
    "    # re-order columns\n",
    "    cleaned_sales_data = cleaned_sales_data[[0, 1, 17] + list(range(2, 17))]\n",
    "    return cleaned_sales_data"
   ]
  },
  {
   "cell_type": "code",
   "execution_count": 3,
   "id": "96d83c98",
   "metadata": {},
   "outputs": [],
   "source": [
    "raw_sales_data_files = glob.glob('./data/raw/sales_data/*')"
   ]
  },
  {
   "cell_type": "code",
   "execution_count": 4,
   "id": "0b922afa",
   "metadata": {},
   "outputs": [],
   "source": [
    "for file in raw_sales_data_files:\n",
    "    raw_sales_data = camelot.read_pdf(file, split_text=True)\n",
    "    cleaned_sales_data = clean_sales_data(raw_sales_data[0].df)\n",
    "    \n",
    "    august_year = int(re.search(pattern='(\\d{4})', string=file).group(0))\n",
    "    cleaned_sales_data.to_csv(\n",
    "        f'./data/preprocessed/sales_data/monthly_sales_sept{august_year-1}_to_aug_{august_year}.csv',\n",
    "        header=False,\n",
    "        index=False\n",
    "    )"
   ]
  }
 ],
 "metadata": {
  "kernelspec": {
   "display_name": "Python 3 (ipykernel)",
   "language": "python",
   "name": "python3"
  },
  "language_info": {
   "codemirror_mode": {
    "name": "ipython",
    "version": 3
   },
   "file_extension": ".py",
   "mimetype": "text/x-python",
   "name": "python",
   "nbconvert_exporter": "python",
   "pygments_lexer": "ipython3",
   "version": "3.8.17"
  }
 },
 "nbformat": 4,
 "nbformat_minor": 5
}
